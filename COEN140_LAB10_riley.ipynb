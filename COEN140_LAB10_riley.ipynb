{
 "cells": [
  {
   "cell_type": "code",
   "execution_count": 233,
   "metadata": {},
   "outputs": [
    {
     "name": "stdout",
     "output_type": "stream",
     "text": [
      ".\n"
     ]
    }
   ],
   "source": [
    "# Importing libraries and dataset\n",
    "import torch\n",
    "import numpy as np\n",
    "import matplotlib.pyplot as plt\n",
    "import torch\n",
    "import numpy as np\n",
    "from sklearn.datasets import load_diabetes\n",
    "from sklearn.datasets import load_digits\n",
    "from torch.utils.data import Dataset, DataLoader\n",
    "from torch import nn\n",
    "import torch.nn.functional as F\n",
    "import torch.optim as optim\n",
    "from torchvision import datasets\n",
    "from torchvision.transforms import ToTensor\n",
    "\n",
    "print(\".\")"
   ]
  },
  {
   "cell_type": "code",
   "execution_count": 234,
   "metadata": {},
   "outputs": [
    {
     "data": {
      "text/plain": [
       "(torchvision.datasets.mnist.MNIST, 60000, torch.Size([60000, 28, 28]))"
      ]
     },
     "execution_count": 234,
     "metadata": {},
     "output_type": "execute_result"
    }
   ],
   "source": [
    "#downloading the MNIST dataset\n",
    "training_data = datasets.MNIST(\n",
    "    root=\"data\",\n",
    "    train=True,\n",
    "    download=True,\n",
    "    transform=ToTensor()\n",
    ")\n",
    "\n",
    "test_data = datasets.MNIST(\n",
    "    root=\"data\",\n",
    "    train=False,\n",
    "    download=True,\n",
    "    transform=ToTensor()\n",
    ")\n",
    "\n",
    "type(training_data), len(training_data), training_data.data.shape"
   ]
  },
  {
   "cell_type": "code",
   "execution_count": 235,
   "metadata": {},
   "outputs": [
    {
     "data": {
      "image/png": "[encoded data removed]",
      "text/plain": [
       "<Figure size 800x800 with 9 Axes>"
      ]
     },
     "metadata": {},
     "output_type": "display_data"
    }
   ],
   "source": [
    "#visualize the labels map\n",
    "labels_map = {\n",
    "    0: \"0\",\n",
    "    1: \"1\",\n",
    "    2: \"2\",\n",
    "    3: \"3\",\n",
    "    4: \"4\",\n",
    "    5: \"5\",\n",
    "    6: \"6\",\n",
    "    7: \"7\",\n",
    "    8: \"8\",\n",
    "    9: \"9\",\n",
    "}\n",
    "figure = plt.figure(figsize=(8, 8))\n",
    "cols, rows = 3, 3\n",
    "for i in range(1, cols * rows + 1):\n",
    "    sample_idx = torch.randint(len(training_data), size=(1,)).item()\n",
    "    img, label = training_data[sample_idx]\n",
    "    figure.add_subplot(rows, cols, i)\n",
    "    plt.title(labels_map[label])\n",
    "    plt.axis(\"off\")\n",
    "    plt.imshow(img.squeeze(), cmap=\"gray\")\n",
    "plt.show()"
   ]
  },
  {
   "cell_type": "code",
   "execution_count": 236,
   "metadata": {},
   "outputs": [
    {
     "data": {
      "text/plain": [
       "torch.utils.data.dataloader.DataLoader"
      ]
     },
     "execution_count": 236,
     "metadata": {},
     "output_type": "execute_result"
    }
   ],
   "source": [
    "# create dataloaders for the train and test set\n",
    "train_dataloader = DataLoader(training_data, batch_size=64, shuffle=True)\n",
    "test_dataloader = DataLoader(test_data, batch_size=1000, shuffle=True)\n",
    "\n",
    "type(train_dataloader)"
   ]
  },
  {
   "cell_type": "code",
   "execution_count": 237,
   "metadata": {},
   "outputs": [
    {
     "name": "stdout",
     "output_type": "stream",
     "text": [
      "Net(\n",
      "  (conv1): Conv2d(1, 10, kernel_size=(5, 5), stride=(1, 1))\n",
      "  (conv2): Conv2d(10, 20, kernel_size=(5, 5), stride=(1, 1))\n",
      "  (conv2_drop): Dropout2d(p=0.5, inplace=False)\n",
      "  (fc1): Linear(in_features=320, out_features=50, bias=True)\n",
      "  (fc2): Linear(in_features=50, out_features=10, bias=True)\n",
      ")\n"
     ]
    }
   ],
   "source": [
    "#network 1: applying 2d convolution, dropout2d, and linear transformation\n",
    "class Net(nn.Module):\n",
    "    def __init__(self):\n",
    "        super(Net, self).__init__()\n",
    "        self.conv1 = nn.Conv2d(1, 10, kernel_size=5)\n",
    "        self.conv2 = nn.Conv2d(10, 20, kernel_size=5)\n",
    "        self.conv2_drop = nn.Dropout2d() #flatten\n",
    "        self.fc1 = nn.Linear(320, 50) #320\n",
    "        self.fc2 = nn.Linear(50, 10)\n",
    "\n",
    "    def forward(self, x):\n",
    "        x = F.relu(F.max_pool2d(self.conv1(x), 2))\n",
    "        x = F.relu(F.max_pool2d(self.conv2_drop(self.conv2(x)), 2))\n",
    "        x = x.view(-1, 320)\n",
    "        x = F.relu(self.fc1(x))\n",
    "        x = F.dropout(x, training=self.training)\n",
    "        x = self.fc2(x)\n",
    "        return F.log_softmax(x)\n",
    "\n",
    "network = Net()\n",
    "print(network)"
   ]
  },
  {
   "cell_type": "code",
   "execution_count": 238,
   "metadata": {},
   "outputs": [
    {
     "name": "stdout",
     "output_type": "stream",
     "text": [
      "tensor([[-2.4680, -2.3241, -2.4465, -2.1292, -2.4854, -2.0555, -2.3951, -2.3723,\n",
      "         -2.2375, -2.2130]], grad_fn=<LogSoftmaxBackward0>)\n"
     ]
    },
    {
     "name": "stderr",
     "output_type": "stream",
     "text": [
      "C:\\Users\\alkal\\AppData\\Local\\Temp\\ipykernel_20276\\654680725.py:18: UserWarning: Implicit dimension choice for log_softmax has been deprecated. Change the call to include dim=X as an argument.\n",
      "  return F.log_softmax(x)\n"
     ]
    }
   ],
   "source": [
    "#check to see that it works on the input data we will pass in\n",
    "input = torch.randn(1, 1, 28, 28)\n",
    "out = network(input)\n",
    "print(out)"
   ]
  },
  {
   "cell_type": "code",
   "execution_count": 239,
   "metadata": {},
   "outputs": [
    {
     "name": "stdout",
     "output_type": "stream",
     "text": [
      "8\n",
      "torch.Size([10, 1, 5, 5])\n"
     ]
    }
   ],
   "source": [
    "params = list(network.parameters())\n",
    "print(len(params))\n",
    "print(params[0].size())"
   ]
  },
  {
   "cell_type": "code",
   "execution_count": 240,
   "metadata": {},
   "outputs": [],
   "source": [
    "# Define parameters\n",
    "n_epochs = 3\n",
    "batch_size_train = 64\n",
    "batch_size_test = 1000\n",
    "learning_rate = 0.01\n",
    "momentum = 0.5\n",
    "log_interval = 10\n",
    "\n",
    "torch.backends.cudnn.enabled = False\n",
    "torch.manual_seed(0)\n",
    "\n",
    "network = Net()\n",
    "#using the stochastic gradient descent optimizer\n",
    "optimizer = optim.SGD(network.parameters(), lr=learning_rate,\n",
    "                      momentum=momentum)\n",
    "\n",
    "\n",
    "train_losses = []\n",
    "train_counter = []\n",
    "test_losses = []\n",
    "test_counter = [i*len(train_dataloader.dataset) for i in range(n_epochs + 1)]"
   ]
  },
  {
   "cell_type": "code",
   "execution_count": 241,
   "metadata": {},
   "outputs": [],
   "source": [
    "#training the network\n",
    "def train(epoch):\n",
    "  network.train()\n",
    "  for batch_idx, (data, target) in enumerate(train_dataloader):\n",
    "    optimizer.zero_grad()\n",
    "    output = network(data)\n",
    "    #loss function: negative log likelihood\n",
    "    loss = F.nll_loss(output, target)\n",
    "    loss.backward()\n",
    "    optimizer.step()\n",
    "    if batch_idx % log_interval == 0:\n",
    "      print('Train Epoch: {} [{}/{} ({:.0f}%)]\\tLoss: {:.6f}'.format(\n",
    "        epoch, batch_idx * len(data), len(train_dataloader.dataset),\n",
    "        100. * batch_idx / len(train_dataloader), loss.item()))\n",
    "      train_losses.append(loss.item())\n",
    "      train_counter.append(\n",
    "        (batch_idx*64) + ((epoch-1)*len(train_dataloader.dataset)))\n",
    "      #torch.save(network.state_dict(), 'results/model.pth')\n",
    "      #torch.save(optimizer.state_dict(), 'results/optimizer.pth')"
   ]
  },
  {
   "cell_type": "code",
   "execution_count": 242,
   "metadata": {},
   "outputs": [],
   "source": [
    "#function to test the network on the validation set\n",
    "def test():\n",
    "  network.eval()\n",
    "  test_loss = 0\n",
    "  correct = 0\n",
    "  with torch.no_grad():\n",
    "    for data, target in test_dataloader:\n",
    "      output = network(data)\n",
    "      test_loss += F.nll_loss(output, target, size_average=False).item()\n",
    "      pred = output.data.max(1, keepdim=True)[1]\n",
    "      correct += pred.eq(target.data.view_as(pred)).sum()\n",
    "  test_loss /= len(test_dataloader.dataset)\n",
    "  test_losses.append(test_loss)\n",
    "  print('\\nTest set: Avg. loss: {:.4f}, Accuracy: {}/{} ({:.0f}%)\\n'.format(\n",
    "    test_loss, correct, len(test_dataloader.dataset),\n",
    "    100. * correct / len(test_dataloader.dataset)))"
   ]
  },
  {
   "cell_type": "code",
   "execution_count": 243,
   "metadata": {},
   "outputs": [
    {
     "name": "stderr",
     "output_type": "stream",
     "text": [
      "C:\\Users\\alkal\\AppData\\Local\\Temp\\ipykernel_20276\\654680725.py:18: UserWarning: Implicit dimension choice for log_softmax has been deprecated. Change the call to include dim=X as an argument.\n",
      "  return F.log_softmax(x)\n",
      "c:\\Users\\alkal\\anaconda3\\envs\\c140\\Lib\\site-packages\\torch\\nn\\_reduction.py:42: UserWarning: size_average and reduce args will be deprecated, please use reduction='sum' instead.\n",
      "  warnings.warn(warning.format(ret))\n"
     ]
    },
    {
     "name": "stdout",
     "output_type": "stream",
     "text": [
      "\n",
      "Test set: Avg. loss: 2.3039, Accuracy: 987/10000 (10%)\n",
      "\n",
      "Train Epoch: 1 [0/60000 (0%)]\tLoss: 2.297314\n",
      "Train Epoch: 1 [640/60000 (1%)]\tLoss: 2.302465\n",
      "Train Epoch: 1 [1280/60000 (2%)]\tLoss: 2.323880\n",
      "Train Epoch: 1 [1920/60000 (3%)]\tLoss: 2.296098\n",
      "Train Epoch: 1 [2560/60000 (4%)]\tLoss: 2.311837\n",
      "Train Epoch: 1 [3200/60000 (5%)]\tLoss: 2.284443\n",
      "Train Epoch: 1 [3840/60000 (6%)]\tLoss: 2.308383\n",
      "Train Epoch: 1 [4480/60000 (7%)]\tLoss: 2.296021\n",
      "Train Epoch: 1 [5120/60000 (9%)]\tLoss: 2.301577\n",
      "Train Epoch: 1 [5760/60000 (10%)]\tLoss: 2.302344\n",
      "Train Epoch: 1 [6400/60000 (11%)]\tLoss: 2.290155\n",
      "Train Epoch: 1 [7040/60000 (12%)]\tLoss: 2.281338\n",
      "Train Epoch: 1 [7680/60000 (13%)]\tLoss: 2.298939\n",
      "Train Epoch: 1 [8320/60000 (14%)]\tLoss: 2.303516\n",
      "Train Epoch: 1 [8960/60000 (15%)]\tLoss: 2.269983\n",
      "Train Epoch: 1 [9600/60000 (16%)]\tLoss: 2.280778\n",
      "Train Epoch: 1 [10240/60000 (17%)]\tLoss: 2.280603\n",
      "Train Epoch: 1 [10880/60000 (18%)]\tLoss: 2.271497\n",
      "Train Epoch: 1 [11520/60000 (19%)]\tLoss: 2.287923\n",
      "Train Epoch: 1 [12160/60000 (20%)]\tLoss: 2.275012\n",
      "Train Epoch: 1 [12800/60000 (21%)]\tLoss: 2.244974\n",
      "Train Epoch: 1 [13440/60000 (22%)]\tLoss: 2.256999\n",
      "Train Epoch: 1 [14080/60000 (23%)]\tLoss: 2.248679\n",
      "Train Epoch: 1 [14720/60000 (25%)]\tLoss: 2.258569\n",
      "Train Epoch: 1 [15360/60000 (26%)]\tLoss: 2.225968\n",
      "Train Epoch: 1 [16000/60000 (27%)]\tLoss: 2.252222\n",
      "Train Epoch: 1 [16640/60000 (28%)]\tLoss: 2.201265\n",
      "Train Epoch: 1 [17280/60000 (29%)]\tLoss: 2.193116\n",
      "Train Epoch: 1 [17920/60000 (30%)]\tLoss: 2.193939\n",
      "Train Epoch: 1 [18560/60000 (31%)]\tLoss: 2.157874\n",
      "Train Epoch: 1 [19200/60000 (32%)]\tLoss: 2.166105\n",
      "Train Epoch: 1 [19840/60000 (33%)]\tLoss: 2.203985\n",
      "Train Epoch: 1 [20480/60000 (34%)]\tLoss: 2.124981\n",
      "Train Epoch: 1 [21120/60000 (35%)]\tLoss: 1.991860\n",
      "Train Epoch: 1 [21760/60000 (36%)]\tLoss: 1.855962\n",
      "Train Epoch: 1 [22400/60000 (37%)]\tLoss: 1.897462\n",
      "Train Epoch: 1 [23040/60000 (38%)]\tLoss: 1.946225\n",
      "Train Epoch: 1 [23680/60000 (39%)]\tLoss: 1.862774\n",
      "Train Epoch: 1 [24320/60000 (41%)]\tLoss: 1.621473\n",
      "Train Epoch: 1 [24960/60000 (42%)]\tLoss: 1.727456\n",
      "Train Epoch: 1 [25600/60000 (43%)]\tLoss: 1.587164\n",
      "Train Epoch: 1 [26240/60000 (44%)]\tLoss: 1.660731\n",
      "Train Epoch: 1 [26880/60000 (45%)]\tLoss: 1.626233\n",
      "Train Epoch: 1 [27520/60000 (46%)]\tLoss: 1.595927\n",
      "Train Epoch: 1 [28160/60000 (47%)]\tLoss: 1.377784\n",
      "Train Epoch: 1 [28800/60000 (48%)]\tLoss: 1.668928\n",
      "Train Epoch: 1 [29440/60000 (49%)]\tLoss: 1.433569\n",
      "Train Epoch: 1 [30080/60000 (50%)]\tLoss: 1.382896\n",
      "Train Epoch: 1 [30720/60000 (51%)]\tLoss: 1.388580\n",
      "Train Epoch: 1 [31360/60000 (52%)]\tLoss: 1.188935\n",
      "Train Epoch: 1 [32000/60000 (53%)]\tLoss: 1.054342\n",
      "Train Epoch: 1 [32640/60000 (54%)]\tLoss: 1.160104\n",
      "Train Epoch: 1 [33280/60000 (55%)]\tLoss: 1.073976\n",
      "Train Epoch: 1 [33920/60000 (57%)]\tLoss: 1.150542\n",
      "Train Epoch: 1 [34560/60000 (58%)]\tLoss: 1.107306\n",
      "Train Epoch: 1 [35200/60000 (59%)]\tLoss: 1.143756\n",
      "Train Epoch: 1 [35840/60000 (60%)]\tLoss: 0.962872\n",
      "Train Epoch: 1 [36480/60000 (61%)]\tLoss: 0.975977\n",
      "Train Epoch: 1 [37120/60000 (62%)]\tLoss: 1.118194\n",
      "Train Epoch: 1 [37760/60000 (63%)]\tLoss: 0.953137\n",
      "Train Epoch: 1 [38400/60000 (64%)]\tLoss: 1.131287\n",
      "Train Epoch: 1 [39040/60000 (65%)]\tLoss: 0.807095\n",
      "Train Epoch: 1 [39680/60000 (66%)]\tLoss: 0.811140\n",
      "Train Epoch: 1 [40320/60000 (67%)]\tLoss: 0.876904\n",
      "Train Epoch: 1 [40960/60000 (68%)]\tLoss: 0.786152\n",
      "Train Epoch: 1 [41600/60000 (69%)]\tLoss: 0.729063\n",
      "Train Epoch: 1 [42240/60000 (70%)]\tLoss: 0.707692\n",
      "Train Epoch: 1 [42880/60000 (71%)]\tLoss: 1.014614\n",
      "Train Epoch: 1 [43520/60000 (72%)]\tLoss: 0.794859\n",
      "Train Epoch: 1 [44160/60000 (74%)]\tLoss: 0.827224\n",
      "Train Epoch: 1 [44800/60000 (75%)]\tLoss: 0.975657\n",
      "Train Epoch: 1 [45440/60000 (76%)]\tLoss: 0.622573\n",
      "Train Epoch: 1 [46080/60000 (77%)]\tLoss: 0.831668\n",
      "Train Epoch: 1 [46720/60000 (78%)]\tLoss: 0.729978\n",
      "Train Epoch: 1 [47360/60000 (79%)]\tLoss: 0.781398\n",
      "Train Epoch: 1 [48000/60000 (80%)]\tLoss: 0.683960\n",
      "Train Epoch: 1 [48640/60000 (81%)]\tLoss: 0.791080\n",
      "Train Epoch: 1 [49280/60000 (82%)]\tLoss: 0.596902\n",
      "Train Epoch: 1 [49920/60000 (83%)]\tLoss: 0.756668\n",
      "Train Epoch: 1 [50560/60000 (84%)]\tLoss: 0.606368\n",
      "Train Epoch: 1 [51200/60000 (85%)]\tLoss: 0.622189\n",
      "Train Epoch: 1 [51840/60000 (86%)]\tLoss: 0.951715\n",
      "Train Epoch: 1 [52480/60000 (87%)]\tLoss: 0.662525\n",
      "Train Epoch: 1 [53120/60000 (88%)]\tLoss: 0.641563\n",
      "Train Epoch: 1 [53760/60000 (90%)]\tLoss: 0.691793\n",
      "Train Epoch: 1 [54400/60000 (91%)]\tLoss: 0.712474\n",
      "Train Epoch: 1 [55040/60000 (92%)]\tLoss: 0.755294\n",
      "Train Epoch: 1 [55680/60000 (93%)]\tLoss: 0.543893\n",
      "Train Epoch: 1 [56320/60000 (94%)]\tLoss: 0.451744\n",
      "Train Epoch: 1 [56960/60000 (95%)]\tLoss: 0.641507\n",
      "Train Epoch: 1 [57600/60000 (96%)]\tLoss: 0.769190\n",
      "Train Epoch: 1 [58240/60000 (97%)]\tLoss: 0.797689\n",
      "Train Epoch: 1 [58880/60000 (98%)]\tLoss: 0.612676\n",
      "Train Epoch: 1 [59520/60000 (99%)]\tLoss: 0.484302\n",
      "\n",
      "Test set: Avg. loss: 0.3520, Accuracy: 9013/10000 (90%)\n",
      "\n",
      "Train Epoch: 2 [0/60000 (0%)]\tLoss: 0.623196\n",
      "Train Epoch: 2 [640/60000 (1%)]\tLoss: 0.469641\n",
      "Train Epoch: 2 [1280/60000 (2%)]\tLoss: 0.572099\n",
      "Train Epoch: 2 [1920/60000 (3%)]\tLoss: 0.644617\n",
      "Train Epoch: 2 [2560/60000 (4%)]\tLoss: 0.765519\n",
      "Train Epoch: 2 [3200/60000 (5%)]\tLoss: 0.685526\n",
      "Train Epoch: 2 [3840/60000 (6%)]\tLoss: 0.655227\n",
      "Train Epoch: 2 [4480/60000 (7%)]\tLoss: 0.683981\n",
      "Train Epoch: 2 [5120/60000 (9%)]\tLoss: 0.638826\n",
      "Train Epoch: 2 [5760/60000 (10%)]\tLoss: 0.652261\n",
      "Train Epoch: 2 [6400/60000 (11%)]\tLoss: 0.528759\n",
      "Train Epoch: 2 [7040/60000 (12%)]\tLoss: 0.677841\n",
      "Train Epoch: 2 [7680/60000 (13%)]\tLoss: 0.624916\n",
      "Train Epoch: 2 [8320/60000 (14%)]\tLoss: 0.399407\n",
      "Train Epoch: 2 [8960/60000 (15%)]\tLoss: 0.598682\n",
      "Train Epoch: 2 [9600/60000 (16%)]\tLoss: 0.410584\n",
      "Train Epoch: 2 [10240/60000 (17%)]\tLoss: 0.619193\n",
      "Train Epoch: 2 [10880/60000 (18%)]\tLoss: 0.708096\n",
      "Train Epoch: 2 [11520/60000 (19%)]\tLoss: 0.600055\n",
      "Train Epoch: 2 [12160/60000 (20%)]\tLoss: 0.456473\n",
      "Train Epoch: 2 [12800/60000 (21%)]\tLoss: 0.504279\n",
      "Train Epoch: 2 [13440/60000 (22%)]\tLoss: 0.417540\n",
      "Train Epoch: 2 [14080/60000 (23%)]\tLoss: 0.507324\n",
      "Train Epoch: 2 [14720/60000 (25%)]\tLoss: 0.794062\n",
      "Train Epoch: 2 [15360/60000 (26%)]\tLoss: 0.647522\n",
      "Train Epoch: 2 [16000/60000 (27%)]\tLoss: 0.451746\n",
      "Train Epoch: 2 [16640/60000 (28%)]\tLoss: 0.408303\n",
      "Train Epoch: 2 [17280/60000 (29%)]\tLoss: 0.669643\n",
      "Train Epoch: 2 [17920/60000 (30%)]\tLoss: 0.737145\n",
      "Train Epoch: 2 [18560/60000 (31%)]\tLoss: 0.482030\n",
      "Train Epoch: 2 [19200/60000 (32%)]\tLoss: 0.336391\n",
      "Train Epoch: 2 [19840/60000 (33%)]\tLoss: 0.438358\n",
      "Train Epoch: 2 [20480/60000 (34%)]\tLoss: 0.674179\n",
      "Train Epoch: 2 [21120/60000 (35%)]\tLoss: 0.454162\n",
      "Train Epoch: 2 [21760/60000 (36%)]\tLoss: 0.605142\n",
      "Train Epoch: 2 [22400/60000 (37%)]\tLoss: 0.615323\n",
      "Train Epoch: 2 [23040/60000 (38%)]\tLoss: 0.730330\n",
      "Train Epoch: 2 [23680/60000 (39%)]\tLoss: 0.547639\n",
      "Train Epoch: 2 [24320/60000 (41%)]\tLoss: 0.563607\n",
      "Train Epoch: 2 [24960/60000 (42%)]\tLoss: 0.660998\n",
      "Train Epoch: 2 [25600/60000 (43%)]\tLoss: 0.578887\n",
      "Train Epoch: 2 [26240/60000 (44%)]\tLoss: 0.599048\n",
      "Train Epoch: 2 [26880/60000 (45%)]\tLoss: 0.413718\n",
      "Train Epoch: 2 [27520/60000 (46%)]\tLoss: 0.608931\n",
      "Train Epoch: 2 [28160/60000 (47%)]\tLoss: 0.437033\n",
      "Train Epoch: 2 [28800/60000 (48%)]\tLoss: 0.483800\n",
      "Train Epoch: 2 [29440/60000 (49%)]\tLoss: 0.441398\n",
      "Train Epoch: 2 [30080/60000 (50%)]\tLoss: 0.598590\n",
      "Train Epoch: 2 [30720/60000 (51%)]\tLoss: 0.603863\n",
      "Train Epoch: 2 [31360/60000 (52%)]\tLoss: 0.393008\n",
      "Train Epoch: 2 [32000/60000 (53%)]\tLoss: 0.312075\n",
      "Train Epoch: 2 [32640/60000 (54%)]\tLoss: 0.380034\n",
      "Train Epoch: 2 [33280/60000 (55%)]\tLoss: 0.619050\n",
      "Train Epoch: 2 [33920/60000 (57%)]\tLoss: 0.481826\n",
      "Train Epoch: 2 [34560/60000 (58%)]\tLoss: 0.688431\n",
      "Train Epoch: 2 [35200/60000 (59%)]\tLoss: 0.548557\n",
      "Train Epoch: 2 [35840/60000 (60%)]\tLoss: 0.505744\n",
      "Train Epoch: 2 [36480/60000 (61%)]\tLoss: 0.585141\n",
      "Train Epoch: 2 [37120/60000 (62%)]\tLoss: 0.413282\n",
      "Train Epoch: 2 [37760/60000 (63%)]\tLoss: 0.590603\n",
      "Train Epoch: 2 [38400/60000 (64%)]\tLoss: 0.357664\n",
      "Train Epoch: 2 [39040/60000 (65%)]\tLoss: 0.537600\n",
      "Train Epoch: 2 [39680/60000 (66%)]\tLoss: 0.542476\n",
      "Train Epoch: 2 [40320/60000 (67%)]\tLoss: 0.577529\n",
      "Train Epoch: 2 [40960/60000 (68%)]\tLoss: 0.473921\n",
      "Train Epoch: 2 [41600/60000 (69%)]\tLoss: 0.490826\n",
      "Train Epoch: 2 [42240/60000 (70%)]\tLoss: 0.484256\n",
      "Train Epoch: 2 [42880/60000 (71%)]\tLoss: 0.414006\n",
      "Train Epoch: 2 [43520/60000 (72%)]\tLoss: 0.683532\n",
      "Train Epoch: 2 [44160/60000 (74%)]\tLoss: 0.492598\n",
      "Train Epoch: 2 [44800/60000 (75%)]\tLoss: 0.477611\n",
      "Train Epoch: 2 [45440/60000 (76%)]\tLoss: 0.468337\n",
      "Train Epoch: 2 [46080/60000 (77%)]\tLoss: 0.347413\n",
      "Train Epoch: 2 [46720/60000 (78%)]\tLoss: 0.518581\n",
      "Train Epoch: 2 [47360/60000 (79%)]\tLoss: 0.505629\n",
      "Train Epoch: 2 [48000/60000 (80%)]\tLoss: 0.599943\n",
      "Train Epoch: 2 [48640/60000 (81%)]\tLoss: 0.407099\n",
      "Train Epoch: 2 [49280/60000 (82%)]\tLoss: 0.398298\n",
      "Train Epoch: 2 [49920/60000 (83%)]\tLoss: 0.409828\n",
      "Train Epoch: 2 [50560/60000 (84%)]\tLoss: 0.674443\n",
      "Train Epoch: 2 [51200/60000 (85%)]\tLoss: 0.424233\n",
      "Train Epoch: 2 [51840/60000 (86%)]\tLoss: 0.453563\n",
      "Train Epoch: 2 [52480/60000 (87%)]\tLoss: 0.416321\n",
      "Train Epoch: 2 [53120/60000 (88%)]\tLoss: 0.408923\n",
      "Train Epoch: 2 [53760/60000 (90%)]\tLoss: 0.439245\n",
      "Train Epoch: 2 [54400/60000 (91%)]\tLoss: 0.616733\n",
      "Train Epoch: 2 [55040/60000 (92%)]\tLoss: 0.503478\n",
      "Train Epoch: 2 [55680/60000 (93%)]\tLoss: 0.578810\n",
      "Train Epoch: 2 [56320/60000 (94%)]\tLoss: 0.680775\n",
      "Train Epoch: 2 [56960/60000 (95%)]\tLoss: 0.469061\n",
      "Train Epoch: 2 [57600/60000 (96%)]\tLoss: 0.868875\n",
      "Train Epoch: 2 [58240/60000 (97%)]\tLoss: 0.377270\n",
      "Train Epoch: 2 [58880/60000 (98%)]\tLoss: 0.523340\n",
      "Train Epoch: 2 [59520/60000 (99%)]\tLoss: 0.283392\n",
      "\n",
      "Test set: Avg. loss: 0.1928, Accuracy: 9413/10000 (94%)\n",
      "\n",
      "Train Epoch: 3 [0/60000 (0%)]\tLoss: 0.479278\n",
      "Train Epoch: 3 [640/60000 (1%)]\tLoss: 0.560144\n",
      "Train Epoch: 3 [1280/60000 (2%)]\tLoss: 0.429598\n",
      "Train Epoch: 3 [1920/60000 (3%)]\tLoss: 0.286678\n",
      "Train Epoch: 3 [2560/60000 (4%)]\tLoss: 0.503945\n",
      "Train Epoch: 3 [3200/60000 (5%)]\tLoss: 0.368854\n",
      "Train Epoch: 3 [3840/60000 (6%)]\tLoss: 0.431517\n",
      "Train Epoch: 3 [4480/60000 (7%)]\tLoss: 0.385774\n",
      "Train Epoch: 3 [5120/60000 (9%)]\tLoss: 0.404439\n",
      "Train Epoch: 3 [5760/60000 (10%)]\tLoss: 0.306260\n",
      "Train Epoch: 3 [6400/60000 (11%)]\tLoss: 0.446774\n",
      "Train Epoch: 3 [7040/60000 (12%)]\tLoss: 0.530779\n",
      "Train Epoch: 3 [7680/60000 (13%)]\tLoss: 0.474325\n",
      "Train Epoch: 3 [8320/60000 (14%)]\tLoss: 0.580019\n",
      "Train Epoch: 3 [8960/60000 (15%)]\tLoss: 0.405722\n",
      "Train Epoch: 3 [9600/60000 (16%)]\tLoss: 0.292137\n",
      "Train Epoch: 3 [10240/60000 (17%)]\tLoss: 0.295919\n",
      "Train Epoch: 3 [10880/60000 (18%)]\tLoss: 0.787142\n",
      "Train Epoch: 3 [11520/60000 (19%)]\tLoss: 0.418745\n",
      "Train Epoch: 3 [12160/60000 (20%)]\tLoss: 0.312934\n",
      "Train Epoch: 3 [12800/60000 (21%)]\tLoss: 0.439122\n",
      "Train Epoch: 3 [13440/60000 (22%)]\tLoss: 0.521403\n",
      "Train Epoch: 3 [14080/60000 (23%)]\tLoss: 0.455096\n",
      "Train Epoch: 3 [14720/60000 (25%)]\tLoss: 0.452854\n",
      "Train Epoch: 3 [15360/60000 (26%)]\tLoss: 0.309306\n",
      "Train Epoch: 3 [16000/60000 (27%)]\tLoss: 0.576471\n",
      "Train Epoch: 3 [16640/60000 (28%)]\tLoss: 0.385869\n",
      "Train Epoch: 3 [17280/60000 (29%)]\tLoss: 0.744945\n",
      "Train Epoch: 3 [17920/60000 (30%)]\tLoss: 0.459426\n",
      "Train Epoch: 3 [18560/60000 (31%)]\tLoss: 0.529610\n",
      "Train Epoch: 3 [19200/60000 (32%)]\tLoss: 0.443958\n",
      "Train Epoch: 3 [19840/60000 (33%)]\tLoss: 0.423756\n",
      "Train Epoch: 3 [20480/60000 (34%)]\tLoss: 0.284327\n",
      "Train Epoch: 3 [21120/60000 (35%)]\tLoss: 0.506542\n",
      "Train Epoch: 3 [21760/60000 (36%)]\tLoss: 0.296980\n",
      "Train Epoch: 3 [22400/60000 (37%)]\tLoss: 0.421239\n",
      "Train Epoch: 3 [23040/60000 (38%)]\tLoss: 0.316754\n",
      "Train Epoch: 3 [23680/60000 (39%)]\tLoss: 0.474724\n",
      "Train Epoch: 3 [24320/60000 (41%)]\tLoss: 0.322186\n",
      "Train Epoch: 3 [24960/60000 (42%)]\tLoss: 0.418507\n",
      "Train Epoch: 3 [25600/60000 (43%)]\tLoss: 0.532287\n",
      "Train Epoch: 3 [26240/60000 (44%)]\tLoss: 0.408853\n",
      "Train Epoch: 3 [26880/60000 (45%)]\tLoss: 0.437960\n",
      "Train Epoch: 3 [27520/60000 (46%)]\tLoss: 0.463069\n",
      "Train Epoch: 3 [28160/60000 (47%)]\tLoss: 0.387446\n",
      "Train Epoch: 3 [28800/60000 (48%)]\tLoss: 0.319027\n",
      "Train Epoch: 3 [29440/60000 (49%)]\tLoss: 0.328788\n",
      "Train Epoch: 3 [30080/60000 (50%)]\tLoss: 0.619959\n",
      "Train Epoch: 3 [30720/60000 (51%)]\tLoss: 0.361943\n",
      "Train Epoch: 3 [31360/60000 (52%)]\tLoss: 0.500755\n",
      "Train Epoch: 3 [32000/60000 (53%)]\tLoss: 0.297321\n",
      "Train Epoch: 3 [32640/60000 (54%)]\tLoss: 0.330056\n",
      "Train Epoch: 3 [33280/60000 (55%)]\tLoss: 0.296638\n",
      "Train Epoch: 3 [33920/60000 (57%)]\tLoss: 0.271739\n",
      "Train Epoch: 3 [34560/60000 (58%)]\tLoss: 0.374751\n",
      "Train Epoch: 3 [35200/60000 (59%)]\tLoss: 0.415504\n",
      "Train Epoch: 3 [35840/60000 (60%)]\tLoss: 0.307744\n",
      "Train Epoch: 3 [36480/60000 (61%)]\tLoss: 0.315526\n",
      "Train Epoch: 3 [37120/60000 (62%)]\tLoss: 0.375537\n",
      "Train Epoch: 3 [37760/60000 (63%)]\tLoss: 0.385660\n",
      "Train Epoch: 3 [38400/60000 (64%)]\tLoss: 0.309025\n",
      "Train Epoch: 3 [39040/60000 (65%)]\tLoss: 0.227099\n",
      "Train Epoch: 3 [39680/60000 (66%)]\tLoss: 0.375296\n",
      "Train Epoch: 3 [40320/60000 (67%)]\tLoss: 0.243612\n",
      "Train Epoch: 3 [40960/60000 (68%)]\tLoss: 0.740636\n",
      "Train Epoch: 3 [41600/60000 (69%)]\tLoss: 0.408828\n",
      "Train Epoch: 3 [42240/60000 (70%)]\tLoss: 0.422219\n",
      "Train Epoch: 3 [42880/60000 (71%)]\tLoss: 0.392331\n",
      "Train Epoch: 3 [43520/60000 (72%)]\tLoss: 0.401654\n",
      "Train Epoch: 3 [44160/60000 (74%)]\tLoss: 0.550468\n",
      "Train Epoch: 3 [44800/60000 (75%)]\tLoss: 0.305885\n",
      "Train Epoch: 3 [45440/60000 (76%)]\tLoss: 0.320895\n",
      "Train Epoch: 3 [46080/60000 (77%)]\tLoss: 0.390300\n",
      "Train Epoch: 3 [46720/60000 (78%)]\tLoss: 0.263962\n",
      "Train Epoch: 3 [47360/60000 (79%)]\tLoss: 0.433954\n",
      "Train Epoch: 3 [48000/60000 (80%)]\tLoss: 0.630186\n",
      "Train Epoch: 3 [48640/60000 (81%)]\tLoss: 0.244583\n",
      "Train Epoch: 3 [49280/60000 (82%)]\tLoss: 0.354498\n",
      "Train Epoch: 3 [49920/60000 (83%)]\tLoss: 0.173998\n",
      "Train Epoch: 3 [50560/60000 (84%)]\tLoss: 0.371721\n",
      "Train Epoch: 3 [51200/60000 (85%)]\tLoss: 0.435264\n",
      "Train Epoch: 3 [51840/60000 (86%)]\tLoss: 0.314579\n",
      "Train Epoch: 3 [52480/60000 (87%)]\tLoss: 0.210022\n",
      "Train Epoch: 3 [53120/60000 (88%)]\tLoss: 0.574330\n",
      "Train Epoch: 3 [53760/60000 (90%)]\tLoss: 0.310765\n",
      "Train Epoch: 3 [54400/60000 (91%)]\tLoss: 0.180889\n",
      "Train Epoch: 3 [55040/60000 (92%)]\tLoss: 0.160325\n",
      "Train Epoch: 3 [55680/60000 (93%)]\tLoss: 0.247429\n",
      "Train Epoch: 3 [56320/60000 (94%)]\tLoss: 0.768592\n",
      "Train Epoch: 3 [56960/60000 (95%)]\tLoss: 0.229755\n",
      "Train Epoch: 3 [57600/60000 (96%)]\tLoss: 0.688660\n",
      "Train Epoch: 3 [58240/60000 (97%)]\tLoss: 0.329011\n",
      "Train Epoch: 3 [58880/60000 (98%)]\tLoss: 0.365398\n",
      "Train Epoch: 3 [59520/60000 (99%)]\tLoss: 0.204035\n",
      "\n",
      "Test set: Avg. loss: 0.1455, Accuracy: 9552/10000 (96%)\n",
      "\n"
     ]
    }
   ],
   "source": [
    "test()\n",
    "for epoch in range(1, n_epochs + 1):\n",
    "  train(epoch)\n",
    "  test() #after 3 epochs we achieve accuracy of 96%"
   ]
  },
  {
   "cell_type": "code",
   "execution_count": 244,
   "metadata": {},
   "outputs": [],
   "source": [
    "#network 2: using only linear transformations with rectified linear activation function\n",
    "class Net2(nn.Module):\n",
    "    def __init__(self):\n",
    "        super(Net2, self).__init__()\n",
    "        self.linear1 = nn.Linear(784, 50)\n",
    "        self.linear2 = nn.Linear(50, 50)\n",
    "        self.linear3 = nn.Linear(50, 10)\n",
    "    \n",
    "    def forward(self, x):\n",
    "        x = torch.relu(self.linear1(x))  \n",
    "        x = torch.relu(self.linear2(x))\n",
    "        x = self.linear3(x)\n",
    "        return x"
   ]
  },
  {
   "cell_type": "code",
   "execution_count": 245,
   "metadata": {},
   "outputs": [
    {
     "name": "stdout",
     "output_type": "stream",
     "text": [
      "tensor([[-5.0690, -4.7742, -0.7595, -0.9946, -5.2384, -4.7804, -6.5613, -3.1249,\n",
      "         -2.5937, -4.2882]], grad_fn=<LogSoftmaxBackward0>)\n"
     ]
    },
    {
     "name": "stderr",
     "output_type": "stream",
     "text": [
      "C:\\Users\\alkal\\AppData\\Local\\Temp\\ipykernel_20276\\654680725.py:18: UserWarning: Implicit dimension choice for log_softmax has been deprecated. Change the call to include dim=X as an argument.\n",
      "  return F.log_softmax(x)\n"
     ]
    }
   ],
   "source": [
    "#check to see that the network works properly on the input shape we pass in\n",
    "input = torch.randn(1, 1, 28, 28)\n",
    "out = network(input)\n",
    "print(out)"
   ]
  },
  {
   "cell_type": "code",
   "execution_count": 246,
   "metadata": {},
   "outputs": [],
   "source": [
    "#training the model\n",
    "def train(model, criterion, train_loader, validation_loader, optimizer, epochs=100):\n",
    "    i = 0\n",
    "    useful_stuff = {'training_loss': [], 'validation_accuracy': []}  \n",
    "    \n",
    "    for epoch in range(epochs):\n",
    "        for i, (x, y) in enumerate(train_loader):\n",
    "            optimizer.zero_grad()\n",
    "            z = model(x.view(-1, 28 * 28))\n",
    "            loss = criterion(z, y)\n",
    "            loss.backward()\n",
    "            optimizer.step()\n",
    "            useful_stuff['training_loss'].append(loss.data.item())\n",
    "        \n",
    "        correct = 0\n",
    "        for x, y in validation_loader:\n",
    "            z = model(x.view(-1, 28 * 28))\n",
    "            _, label = torch.max(z, 1)\n",
    "            correct += (label == y).sum().item()\n",
    "    \n",
    "        accuracy = 100 * (correct / len(test_data))\n",
    "        useful_stuff['validation_accuracy'].append(accuracy)\n",
    "    \n",
    "    return useful_stuff"
   ]
  },
  {
   "cell_type": "code",
   "execution_count": 247,
   "metadata": {},
   "outputs": [],
   "source": [
    "cust_epochs = 10 #number of iterations\n",
    "\n",
    "#loss function: cross entropy\n",
    "criterion = nn.CrossEntropyLoss()\n",
    "\n",
    "#use stochastic gradient descent\n",
    "learning_rate = 0.01\n",
    "modelRelu = Net2()\n",
    "optimizer = torch.optim.SGD(modelRelu.parameters(), lr=learning_rate)\n",
    "training_results_relu = train(modelRelu, criterion, train_dataloader, test_dataloader, optimizer, epochs=cust_epochs)"
   ]
  },
  {
   "cell_type": "code",
   "execution_count": 248,
   "metadata": {},
   "outputs": [
    {
     "data": {
      "text/plain": [
       "[77.57,\n",
       " 87.59,\n",
       " 89.36,\n",
       " 90.29,\n",
       " 91.07,\n",
       " 91.81,\n",
       " 92.10000000000001,\n",
       " 92.39,\n",
       " 92.69,\n",
       " 93.12]"
      ]
     },
     "execution_count": 248,
     "metadata": {},
     "output_type": "execute_result"
    }
   ],
   "source": [
    "#return accuracy of second network on the test set after each epoch (iteration)\n",
    "#after ten epochs the model achieves 93% accuracy\n",
    "training_results_relu['validation_accuracy']"
   ]
  }
 ],
 "metadata": {
  "kernelspec": {
   "display_name": "c140",
   "language": "python",
   "name": "python3"
  },
  "language_info": {
   "codemirror_mode": {
    "name": "ipython",
    "version": 3
   },
   "file_extension": ".py",
   "mimetype": "text/x-python",
   "name": "python",
   "nbconvert_exporter": "python",
   "pygments_lexer": "ipython3",
   "version": "3.11.3"
  },
  "orig_nbformat": 4
 },
 "nbformat": 4,
 "nbformat_minor": 2
}
