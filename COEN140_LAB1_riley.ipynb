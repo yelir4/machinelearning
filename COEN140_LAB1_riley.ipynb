{
 "cells": [
  {
   "cell_type": "code",
   "execution_count": 3,
   "id": "665d902e-a92d-4003-bbb9-610be48fb04c",
   "metadata": {},
   "outputs": [
    {
     "name": "stdout",
     "output_type": "stream",
     "text": [
      "returning odd numbers from 0 to 10\n",
      "[1, 3, 5, 7, 9]\n",
      "\n",
      "returning odd numbers from 0 to 5\n",
      "[1, 3, 5]\n"
     ]
    }
   ],
   "source": [
    "#question 1\n",
    "#create odd() function\n",
    "#takes argument 'n' and returns list of odd numbers\n",
    "#from [0..n] inclusive\n",
    "def odd(n):\n",
    "    nums = list(range(n+1)) #take range from 0 to n+1 (+1 so its inclusive)\n",
    "    odds = [n for n in nums if n%2!=0] #only take odd numbers\n",
    "    return odds\n",
    "\n",
    "\n",
    "print(\"returning odd numbers from 0 to 10\")\n",
    "print(odd(10))\n",
    "print(\"\\nreturning odd numbers from 0 to 5\")\n",
    "print(odd(5))"
   ]
  },
  {
   "cell_type": "code",
   "execution_count": 386,
   "id": "7ae33280-225c-400f-983a-fda570869862",
   "metadata": {},
   "outputs": [
    {
     "name": "stdout",
     "output_type": "stream",
     "text": [
      "a. sorting by name\n",
      "{'name': 'Daniel', 'age': '21', 'major': 'MECH'}\n",
      "{'name': 'Joe', 'age': '22', 'major': 'BIOE'}\n",
      "{'name': 'Mike', 'age': '22', 'major': 'COEN'}\n",
      "{'name': 'Pedro', 'age': '22', 'major': 'AMTH'}\n",
      "{'name': 'Ryan', 'age': '19', 'major': 'ELEN'}\n",
      "\n",
      "\n",
      "b. sorting by age\n",
      "{'name': 'Ryan', 'age': '19', 'major': 'ELEN'}\n",
      "{'name': 'Daniel', 'age': '21', 'major': 'MECH'}\n",
      "{'name': 'Joe', 'age': '22', 'major': 'BIOE'}\n",
      "{'name': 'Mike', 'age': '22', 'major': 'COEN'}\n",
      "{'name': 'Pedro', 'age': '22', 'major': 'AMTH'}\n",
      "\n",
      "\n"
     ]
    }
   ],
   "source": [
    "#question 2, a and b\n",
    "#read students.csv file\n",
    "#sort and return list by name, age\n",
    "\n",
    "import csv #for reading csv files\n",
    "\n",
    "#append each row of csv file to students\n",
    "students = []\n",
    "with open('students.csv') as csv_file:\n",
    "    csv_reader = csv.reader(csv_file, delimiter=',')\n",
    "    line_count = 0\n",
    "    for row in csv_reader:\n",
    "        students.append({'name': row[0], 'age': row[1], 'major': row[2]}) #add to list from csv file\n",
    "\n",
    "#sort using name as key\n",
    "def name(e):\n",
    "    return e['name']\n",
    "\n",
    "#sort using age as key\n",
    "def age(e):\n",
    "    return e['age']\n",
    "\n",
    "students.sort(key=name)\n",
    "print('a. sorting by name')\n",
    "for row in students:\n",
    "    print(row)\n",
    "print('\\n')\n",
    "\n",
    "students.sort(key=age)\n",
    "print('b. sorting by age')\n",
    "for row in students:\n",
    "    print(row)\n",
    "print('\\n')\n"
   ]
  },
  {
   "cell_type": "code",
   "execution_count": 387,
   "id": "e8fdb830-4047-4dcf-bdc2-453387c4b097",
   "metadata": {},
   "outputs": [
    {
     "name": "stdout",
     "output_type": "stream",
     "text": [
      "{'h': 1, 'e': 1, 'l': 3, 'o': 2, ' ': 1, 'w': 1, 'r': 1, 'd': 1}\n",
      "hello world\n",
      "max letter is l with 3 entries\n",
      "\n",
      "{'t': 2, 'h': 2, 'e': 4, ' ': 8, 'q': 1, 'u': 2, 'i': 1, 'c': 1, 'k': 1, 'b': 1, 'r': 2, 'o': 4, 'w': 1, 'n': 1, 'f': 1, 'x': 1, 'j': 1, 'm': 1, 'p': 1, 'd': 2, 'v': 1, 'l': 1, 'a': 1, 'z': 1, 'y': 1, 'g': 1}\n",
      "the quick brown fox jumped over the lazy dog\n",
      "max letter is e with 4 entries\n",
      "\n"
     ]
    }
   ],
   "source": [
    "#question 3\n",
    "#define function to count character appearances in string\n",
    "#return most frequent character\n",
    "#runs in O(N)\n",
    "#uses dictionary\n",
    "\n",
    "def countCharacters(sen):\n",
    "    table = {}\n",
    "    max = 0\n",
    "    maxLetter = \"\"     #keep track of most used letter\n",
    "    for letter in sen:    #iterate through sentence\n",
    "        if letter in table:\n",
    "            table[letter] += 1\n",
    "        else:\n",
    "            table[letter] = 1  #increment dictionary value, or place letter in dictionary if not alread ypresent\n",
    "        \n",
    "        if (table[letter] > max and letter.isalpha()): #update most used letter, ignoring \" \" character\n",
    "            max = table[letter]\n",
    "            maxLetter = letter\n",
    "    \n",
    "    print(table)\n",
    "    print(sen)\n",
    "    print('max letter is', maxLetter, 'with', max, 'entries\\n')\n",
    "    \n",
    "\n",
    "#test phrases\n",
    "sen1 = \"hello world\"\n",
    "countCharacters(sen1)\n",
    "sen2 = \"the quick brown fox jumped over the lazy dog\"\n",
    "countCharacters(sen2)"
   ]
  },
  {
   "cell_type": "code",
   "execution_count": 388,
   "id": "a1e2c01f-e92e-46d6-85a7-deccefbb2553",
   "metadata": {},
   "outputs": [
    {
     "name": "stdout",
     "output_type": "stream",
     "text": [
      "sorting by name\n",
      "     name age major\n",
      "2  Daniel  21  MECH\n",
      "4     Joe  22  BIOE\n",
      "1    Mike  22  COEN\n",
      "0   Pedro  22  AMTH\n",
      "3    Ryan  19  ELEN\n",
      "\n",
      "sorting by age\n",
      "     name age major\n",
      "3    Ryan  19  ELEN\n",
      "2  Daniel  21  MECH\n",
      "4     Joe  22  BIOE\n",
      "1    Mike  22  COEN\n",
      "0   Pedro  22  AMTH\n"
     ]
    }
   ],
   "source": [
    "#question 4\n",
    "#redo question 2\n",
    "#read students.csv file\n",
    "#sort and return list by name, age\n",
    "#use pandas dataframes\n",
    "\n",
    "import pandas as pd\n",
    "import csv\n",
    "\n",
    "data = {\n",
    "    \"name\": [],\n",
    "    \"age\": [],\n",
    "    \"major\": [] #set to append to\n",
    "}\n",
    "with open('students.csv') as csv_file:\n",
    "    csv_reader = csv.reader(csv_file, delimiter=',')\n",
    "    line_count = 0\n",
    "    for row in csv_reader:\n",
    "        data[\"name\"].append(row[0])\n",
    "        data[\"age\"].append(row[1])\n",
    "        data[\"major\"].append(row[2]) #append to each set based on csv file\n",
    "\n",
    "frame = pd.DataFrame(data) #place data in data frame provided by pandas\n",
    "\n",
    "print(\"sorting by name\")\n",
    "frame.sort_values(by=[\"name\"], inplace=True)\n",
    "print(frame)\n",
    "\n",
    "print(\"\\nsorting by age\")\n",
    "frame.sort_values(by=[\"age\"], inplace=True)\n",
    "print(frame)\n"
   ]
  },
  {
   "cell_type": "code",
   "execution_count": 269,
   "id": "e414c49b-f43c-434e-8e89-6ed9c0e085d5",
   "metadata": {},
   "outputs": [
    {
     "name": "stdout",
     "output_type": "stream",
     "text": [
      "method 1: double for loop\n",
      "[[    0   101   202 ...  9797  9898  9999]\n",
      " [  101   202   303 ...  9898  9999 10100]\n",
      " [  202   303   404 ...  9999 10100 10201]\n",
      " ...\n",
      " [ 9797  9898  9999 ... 19594 19695 19796]\n",
      " [ 9898  9999 10100 ... 19695 19796 19897]\n",
      " [ 9999 10100 10201 ... 19796 19897 19998]]\n"
     ]
    }
   ],
   "source": [
    "#question 5\n",
    "#use NumPy to create two 100x100 arrays\n",
    "#add them together in two different ways\n",
    "#method 1: double for loop\n",
    "\n",
    "import numpy as np\n",
    "\n",
    "#create two distinct 100x100 arrays\n",
    "buf = np.array(range(10000))\n",
    "buf2 = np.array(range(10000))\n",
    "tdarrayA = np.ndarray(shape=(100,100), dtype=int, buffer=buf, order='C')\n",
    "tdarrayB = np.ndarray(shape=(100,100), dtype=int, buffer=buf2, order='F')\n",
    "\n",
    "print(\"method 1: double for loop\")\n",
    "for col in range(100):\n",
    "    for row in range(100):\n",
    "        tdarrayA[col, row] += tdarrayB[col, row] #iterate through each index and add together\n",
    "print(tdarrayA)\n"
   ]
  },
  {
   "cell_type": "code",
   "execution_count": 389,
   "id": "133eb897-4267-465f-8a25-f244ddbdba90",
   "metadata": {},
   "outputs": [
    {
     "name": "stdout",
     "output_type": "stream",
     "text": [
      "\n",
      "method 2: '+' operator\n",
      "[[    0   101   202 ...  9797  9898  9999]\n",
      " [  101   202   303 ...  9898  9999 10100]\n",
      " [  202   303   404 ...  9999 10100 10201]\n",
      " ...\n",
      " [ 9797  9898  9999 ... 19594 19695 19796]\n",
      " [ 9898  9999 10100 ... 19695 19796 19897]\n",
      " [ 9999 10100 10201 ... 19796 19897 19998]]\n"
     ]
    }
   ],
   "source": [
    "#question 5\n",
    "#use NumPy to create two 100x100 arrays\n",
    "#method 2: '+' operator\n",
    "#time how long each method takes, using \"time\" module\n",
    "\n",
    "#method 2: +\n",
    "import numpy as np\n",
    "\n",
    "#create two distinct 100x100 arrays\n",
    "buf = np.array(range(10000))\n",
    "buf2 = np.array(range(10000))\n",
    "tdarrayA = np.ndarray(shape=(100,100), dtype=int, buffer=buf, order='C')\n",
    "tdarrayB = np.ndarray(shape=(100,100), dtype=int, buffer=buf2, order='F')\n",
    "\n",
    "#use + operator to add the two arrays\n",
    "print(\"\\nmethod 2: '+' operator\")\n",
    "print(tdarrayA + tdarrayB)"
   ]
  },
  {
   "cell_type": "code",
   "execution_count": 390,
   "id": "279df115-da7b-485b-b8c2-134ae919c2b7",
   "metadata": {},
   "outputs": [
    {
     "name": "stdout",
     "output_type": "stream",
     "text": [
      "method 1: double for loop\n",
      "1000 entries in timeList\n",
      "\n",
      "2.556192636489868ms average runtime\n",
      "0.09655214958490049ms standard deviation\n"
     ]
    },
    {
     "data": {
      "image/png": "[encoded data removed]",
      "text/plain": [
       "<Figure size 640x480 with 1 Axes>"
      ]
     },
     "metadata": {},
     "output_type": "display_data"
    }
   ],
   "source": [
    "#question 6\n",
    "#time each method 1000 times, record in vector length 1000\n",
    "#method 1: double for loop\n",
    "\n",
    "import numpy as np\n",
    "import time\n",
    "\n",
    "def compute():\n",
    "    buf = np.array(range(10000))\n",
    "    buf2 = np.array(range(10000))\n",
    "    tdarrayA = np.ndarray(shape=(100,100), dtype=int, buffer=buf, order='C')\n",
    "    tdarrayB = np.ndarray(shape=(100,100), dtype=int, buffer=buf2, order='F')\n",
    "\n",
    "    start = time.time() #start measuring time\n",
    "    for col in range(100):\n",
    "        for row in range(100):\n",
    "            tdarrayA[col, row] += tdarrayB[col, row]\n",
    "    end = time.time()\n",
    "    return (end-start) #end measuring time and return total time spent on the function\n",
    "\n",
    "\n",
    "timeList = np.array([])\n",
    "for num in range(1000):\n",
    "        timeList = np.append(timeList, [compute()*1000]) #measure time taken 1000 times and append to the timeList vector\n",
    "\n",
    "#print(timeList, '\\n')\n",
    "print(\"method 1: double for loop\")\n",
    "print(timeList.size, 'entries in timeList\\n')\n",
    "print(np.average(timeList), '\\bms average runtime') #calculate average runtime and standard deviation\n",
    "print(np.std(timeList), '\\bms standard deviation')\n",
    "\n",
    "plt.hist(timeList, bins=8, range=(2.65,2.8)) #create histograph to display data\n",
    "plt.title(\"time list (in ms)\")\n",
    "plt.show()\n",
    "\n"
   ]
  },
  {
   "cell_type": "code",
   "execution_count": 392,
   "id": "241e240d-c5ba-498b-98ad-6a310a84d7c2",
   "metadata": {},
   "outputs": [
    {
     "name": "stdout",
     "output_type": "stream",
     "text": [
      "\n",
      "method 2: '+' operator\n",
      "1000 entries in timeList\n",
      "\n",
      "2.530261278152466ms average runtime\n",
      "0.08187437714939845ms standard deviation\n"
     ]
    },
    {
     "data": {
      "image/png": "[encoded data removed]",
      "text/plain": [
       "<Figure size 640x480 with 1 Axes>"
      ]
     },
     "metadata": {},
     "output_type": "display_data"
    }
   ],
   "source": [
    "#question 6\n",
    "#time each method 1000 times, record in vector length 1000\n",
    "#method 2: double for loop\n",
    "\n",
    "import numpy as np\n",
    "import time\n",
    "import matplotlib.pyplot as plt\n",
    "\n",
    "def compute():\n",
    "    buf = np.array(range(10000))\n",
    "    buf2 = np.array(range(10000))\n",
    "    tdarrayA = np.ndarray(shape=(100,100), dtype=int, buffer=buf, order='C')\n",
    "    tdarrayB = np.ndarray(shape=(100,100), dtype=int, buffer=buf2, order='F')\n",
    "\n",
    "    start = time.time() #start measuring time\n",
    "    for col in range(100):\n",
    "        for row in range(100):\n",
    "            tdarrayA[col, row] += tdarrayB[col, row]\n",
    "    end = time.time()\n",
    "    return (end-start) #end measuring time and return total time spent on the function\n",
    "\n",
    "\n",
    "timeList = np.array([])\n",
    "for num in range(1000):\n",
    "        timeList = np.append(timeList, [compute()*1000]) #measure time taken 1000 times and append to the timeList vector\n",
    "\n",
    "#print(timeList, '\\n')\n",
    "print(\"\\nmethod 2: '+' operator\")\n",
    "print(timeList.size, 'entries in timeList\\n')\n",
    "print(np.average(timeList), '\\bms average runtime') #calculate average runtime and standard deviation\n",
    "print(np.std(timeList), '\\bms standard deviation')\n",
    "\n",
    "plt.hist(timeList, bins=8, range=(2.65,2.8)) #create histograph to display data\n",
    "plt.title(\"time list (in ms)\")\n",
    "plt.show()\n"
   ]
  },
  {
   "cell_type": "code",
   "execution_count": 391,
   "id": "d1896369-10a5-4f84-9236-bcd02e0bab28",
   "metadata": {},
   "outputs": [
    {
     "name": "stdout",
     "output_type": "stream",
     "text": [
      "     name age major\n",
      "0   Pedro  22  AMTH\n",
      "1    Mike  22  COEN\n",
      "2  Daniel  21  MECH\n",
      "3    Ryan  19  ELEN\n",
      "4     Joe  22  BIOE\n"
     ]
    },
    {
     "data": {
      "image/png": "[encoded data removed]",
      "text/plain": [
       "<Figure size 640x480 with 1 Axes>"
      ]
     },
     "metadata": {},
     "output_type": "display_data"
    }
   ],
   "source": [
    "#question 7\n",
    "#small example program of own choosing\n",
    "#this program will take the students.csv file from before\n",
    "#and plot a histogram for the average age of all of the students\n",
    "\n",
    "import pandas as pd\n",
    "import numpy as np\n",
    "import csv\n",
    "import matplotlib.pyplot as plt\n",
    "\n",
    "data = {\n",
    "    \"name\": [],\n",
    "    \"age\": [],\n",
    "    \"major\": []\n",
    "}\n",
    "with open('students.csv') as csv_file:\n",
    "    csv_reader = csv.reader(csv_file, delimiter=',')\n",
    "    line_count = 0\n",
    "    for row in csv_reader:\n",
    "        data[\"name\"].append(row[0]) #add data to set based on csv file\n",
    "        data[\"age\"].append(row[1])\n",
    "        data[\"major\"].append(row[2])\n",
    "        #print(data[\"name\"])\n",
    "\n",
    "frame = pd.DataFrame(data)\n",
    "print(frame) #put data into frame\n",
    "\n",
    "ageList = np.array([0])\n",
    "for num in data[\"age\"]:\n",
    "    number = int(num)\n",
    "    ageList = np.append(ageList, number)\n",
    "\n",
    "#print('\\n', ageList)\n",
    "\n",
    "plt.hist(ageList, bins=4, range=(18, 23)) #plot histogram to show age demographic of students\n",
    "plt.title(\"age list\")\n",
    "plt.show()\n",
    "    "
   ]
  },
  {
   "cell_type": "code",
   "execution_count": null,
   "id": "ecc2639c-cc0f-4c96-9ae3-002670d30793",
   "metadata": {},
   "outputs": [],
   "source": []
  }
 ],
 "metadata": {
  "kernelspec": {
   "display_name": "PyTorch",
   "language": "python",
   "name": "pytorch-cpu"
  },
  "language_info": {
   "codemirror_mode": {
    "name": "ipython",
    "version": 3
   },
   "file_extension": ".py",
   "mimetype": "text/x-python",
   "name": "python",
   "nbconvert_exporter": "python",
   "pygments_lexer": "ipython3",
   "version": "3.9.15"
  }
 },
 "nbformat": 4,
 "nbformat_minor": 5
}
